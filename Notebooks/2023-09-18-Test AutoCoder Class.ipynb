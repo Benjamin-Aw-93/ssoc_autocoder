{
 "cells": [
  {
   "cell_type": "code",
   "execution_count": 1,
   "id": "c6055e74-f68f-4129-a792-cb0302512b52",
   "metadata": {},
   "outputs": [],
   "source": [
    "import os\n",
    "os.chdir('..')"
   ]
  },
  {
   "cell_type": "code",
   "execution_count": 2,
   "id": "40bea94a-4b83-4183-874a-ac22b7188713",
   "metadata": {},
   "outputs": [],
   "source": [
    "from ssoc_autocoder.combined_model import SSOCAutoCoder"
   ]
  },
  {
   "cell_type": "code",
   "execution_count": 3,
   "id": "06429ece-a5d0-4e50-b9aa-5929c62dc463",
   "metadata": {},
   "outputs": [],
   "source": [
    "SSOC = SSOCAutoCoder()"
   ]
  },
  {
   "cell_type": "code",
   "execution_count": 4,
   "id": "215798f0-34b7-4ba9-b32e-badd65f36208",
   "metadata": {},
   "outputs": [
    {
     "name": "stderr",
     "output_type": "stream",
     "text": [
      "/Users/dsaid/.pyenv/versions/mom_autocoder/lib/python3.11/site-packages/sklearn/base.py:347: InconsistentVersionWarning: Trying to unpickle estimator StandardScaler from version 1.2.2 when using version 1.3.0. This might lead to breaking code or invalid results. Use at your own risk. For more info please refer to:\n",
      "https://scikit-learn.org/stable/model_persistence.html#security-maintainability-limitations\n",
      "  warnings.warn(\n",
      "/Users/dsaid/.pyenv/versions/mom_autocoder/lib/python3.11/site-packages/sklearn/base.py:347: InconsistentVersionWarning: Trying to unpickle estimator LogisticRegression from version 1.2.2 when using version 1.3.0. This might lead to breaking code or invalid results. Use at your own risk. For more info please refer to:\n",
      "https://scikit-learn.org/stable/model_persistence.html#security-maintainability-limitations\n",
      "  warnings.warn(\n",
      "/Users/dsaid/.pyenv/versions/mom_autocoder/lib/python3.11/site-packages/sklearn/base.py:347: InconsistentVersionWarning: Trying to unpickle estimator Pipeline from version 1.2.2 when using version 1.3.0. This might lead to breaking code or invalid results. Use at your own risk. For more info please refer to:\n",
      "https://scikit-learn.org/stable/model_persistence.html#security-maintainability-limitations\n",
      "  warnings.warn(\n"
     ]
    }
   ],
   "source": [
    "SSOC.build(\n",
    "    model_name=\"test\",\n",
    "    embedding_model_path=\"Models/language_model\",\n",
    "    tokenizer_path=\"Models/distilbert-tokenizer-pretrained-7epoch\",\n",
    "    full_classifier_path=\"Models/230829_1231h_full_logreg.pkl\",\n",
    "    title_classifier_path=\"Models/230827_2252h_title_logreg.pkl\"\n",
    ")"
   ]
  },
  {
   "cell_type": "code",
   "execution_count": 5,
   "id": "365a7758-1abb-4c6f-b9c9-2657626de159",
   "metadata": {},
   "outputs": [
    {
     "data": {
      "text/plain": [
       "{'prediction': [[25121]], 'confidence': [[0.9916930301391527]]}"
      ]
     },
     "execution_count": 5,
     "metadata": {},
     "output_type": "execute_result"
    }
   ],
   "source": [
    "SSOC.predict(title=\"software engineer\", description=\"build fullstack applications\")"
   ]
  },
  {
   "cell_type": "code",
   "execution_count": 6,
   "id": "027027c0-cfd8-4db2-90cc-16f42d26e2a0",
   "metadata": {},
   "outputs": [
    {
     "data": {
      "text/plain": [
       "{'prediction': [['25121']], 'confidence': [[0.8071209167859391]]}"
      ]
     },
     "execution_count": 6,
     "metadata": {},
     "output_type": "execute_result"
    }
   ],
   "source": [
    "SSOC.predict_lite(title=\"software engineer\")"
   ]
  }
 ],
 "metadata": {
  "kernelspec": {
   "display_name": "Python 3 (ipykernel)",
   "language": "python",
   "name": "python3"
  },
  "language_info": {
   "codemirror_mode": {
    "name": "ipython",
    "version": 3
   },
   "file_extension": ".py",
   "mimetype": "text/x-python",
   "name": "python",
   "nbconvert_exporter": "python",
   "pygments_lexer": "ipython3",
   "version": "3.11.5"
  }
 },
 "nbformat": 4,
 "nbformat_minor": 5
}
