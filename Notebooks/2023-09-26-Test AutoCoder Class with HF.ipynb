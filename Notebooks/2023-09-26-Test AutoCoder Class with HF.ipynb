{
 "cells": [
  {
   "cell_type": "code",
   "execution_count": 1,
   "metadata": {},
   "outputs": [],
   "source": [
    "import os\n",
    "os.chdir('..')"
   ]
  },
  {
   "cell_type": "code",
   "execution_count": 2,
   "metadata": {},
   "outputs": [],
   "source": [
    "from ssoc_autocoder.combined_model import SSOCAutoCoder"
   ]
  },
  {
   "cell_type": "code",
   "execution_count": 3,
   "metadata": {},
   "outputs": [
    {
     "name": "stderr",
     "output_type": "stream",
     "text": [
      "/Users/dsaid/.pyenv/versions/mom_autocoder/lib/python3.11/site-packages/sklearn/base.py:347: InconsistentVersionWarning: Trying to unpickle estimator StandardScaler from version 1.2.2 when using version 1.3.0. This might lead to breaking code or invalid results. Use at your own risk. For more info please refer to:\n",
      "https://scikit-learn.org/stable/model_persistence.html#security-maintainability-limitations\n",
      "  warnings.warn(\n",
      "/Users/dsaid/.pyenv/versions/mom_autocoder/lib/python3.11/site-packages/sklearn/base.py:347: InconsistentVersionWarning: Trying to unpickle estimator LogisticRegression from version 1.2.2 when using version 1.3.0. This might lead to breaking code or invalid results. Use at your own risk. For more info please refer to:\n",
      "https://scikit-learn.org/stable/model_persistence.html#security-maintainability-limitations\n",
      "  warnings.warn(\n",
      "/Users/dsaid/.pyenv/versions/mom_autocoder/lib/python3.11/site-packages/sklearn/base.py:347: InconsistentVersionWarning: Trying to unpickle estimator Pipeline from version 1.2.2 when using version 1.3.0. This might lead to breaking code or invalid results. Use at your own risk. For more info please refer to:\n",
      "https://scikit-learn.org/stable/model_persistence.html#security-maintainability-limitations\n",
      "  warnings.warn(\n"
     ]
    }
   ],
   "source": [
    "SSOC = SSOCAutoCoder()\n",
    "SSOC.build(\n",
    "    model_name=\"test\",\n",
    "    embedding_model_path=\"Models/language_model\",\n",
    "    tokenizer_path=\"Models/distilbert-tokenizer-pretrained-7epoch\",\n",
    "    full_classifier_path=\"Models/230829_1231h_full_logreg.pkl\",\n",
    "    title_classifier_path=\"Models/230827_2252h_title_logreg.pkl\"\n",
    ")"
   ]
  },
  {
   "cell_type": "code",
   "execution_count": 4,
   "metadata": {},
   "outputs": [
    {
     "data": {
      "text/plain": [
       "{'prediction': [[25121, 31161, 25122, 74222, 25140]],\n",
       " 'confidence': [[0.9916930301391527,\n",
       "   0.003853091637419071,\n",
       "   0.00332501727893872,\n",
       "   0.00027773013518799975,\n",
       "   0.00021147131863701618]]}"
      ]
     },
     "execution_count": 4,
     "metadata": {},
     "output_type": "execute_result"
    }
   ],
   "source": [
    "SSOC.predict(title=\"software engineer\", description=\"build fullstack applications\", top_n = 5)"
   ]
  },
  {
   "cell_type": "code",
   "execution_count": 5,
   "metadata": {},
   "outputs": [
    {
     "data": {
      "text/plain": [
       "{'prediction': [['25121']], 'confidence': [[0.8071209167859391]]}"
      ]
     },
     "execution_count": 5,
     "metadata": {},
     "output_type": "execute_result"
    }
   ],
   "source": [
    "SSOC.predict_lite(title=\"software engineer\")"
   ]
  },
  {
   "cell_type": "code",
   "execution_count": null,
   "metadata": {},
   "outputs": [],
   "source": [
    "SSOC2 = SSOCAutoCoder()\n",
    "SSOC2.build(\n",
    "    model_name=\"test\",\n",
    "    full_classifier_path=\"Models/bge-base-en_w_jd_log_reg_pipeline.pkl\",\n",
    "    title_classifier_path=\"Models/bge-base-en_log_reg_pipeline.pkl\",\n",
    "    hugging_face_model_name = \"BAAI/bge-base-en\",\n",
    "    from_hugging_face = True\n",
    ")"
   ]
  },
  {
   "cell_type": "code",
   "execution_count": 7,
   "metadata": {},
   "outputs": [
    {
     "name": "stderr",
     "output_type": "stream",
     "text": [
      "/Users/dsaid/.pyenv/versions/mom_autocoder/lib/python3.11/site-packages/sklearn/base.py:457: UserWarning: X has feature names, but StandardScaler was fitted without feature names\n",
      "  warnings.warn(\n"
     ]
    },
    {
     "data": {
      "text/plain": [
       "{'prediction': [[25121, 25122, 25140, 25151, 21522]],\n",
       " 'confidence': [[0.9999554172995129,\n",
       "   1.719301060040246e-05,\n",
       "   1.283117929027642e-05,\n",
       "   2.888651325742412e-06,\n",
       "   2.1013692053154824e-06]]}"
      ]
     },
     "execution_count": 7,
     "metadata": {},
     "output_type": "execute_result"
    }
   ],
   "source": [
    "SSOC2.predict(title=\"software engineer\", description=\"build fullstack applications\", top_n = 5)"
   ]
  },
  {
   "cell_type": "code",
   "execution_count": 8,
   "metadata": {},
   "outputs": [
    {
     "name": "stderr",
     "output_type": "stream",
     "text": [
      "/Users/dsaid/.pyenv/versions/mom_autocoder/lib/python3.11/site-packages/sklearn/base.py:457: UserWarning: X has feature names, but StandardScaler was fitted without feature names\n",
      "  warnings.warn(\n"
     ]
    },
    {
     "data": {
      "text/plain": [
       "{'prediction': [[25121]], 'confidence': [[0.9999840488077832]]}"
      ]
     },
     "execution_count": 8,
     "metadata": {},
     "output_type": "execute_result"
    }
   ],
   "source": [
    "SSOC2.predict_lite(title=\"software engineer\")\n"
   ]
  }
 ],
 "metadata": {
  "kernelspec": {
   "display_name": "mom_autocoder",
   "language": "python",
   "name": "python3"
  },
  "language_info": {
   "codemirror_mode": {
    "name": "ipython",
    "version": 3
   },
   "file_extension": ".py",
   "mimetype": "text/x-python",
   "name": "python",
   "nbconvert_exporter": "python",
   "pygments_lexer": "ipython3",
   "version": "3.11.5"
  },
  "orig_nbformat": 4
 },
 "nbformat": 4,
 "nbformat_minor": 2
}
